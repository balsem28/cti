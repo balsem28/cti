{
 "cells": [
  {
   "cell_type": "code",
   "execution_count": 2,
   "id": "1e7cfd55",
   "metadata": {},
   "outputs": [
    {
     "name": "stdout",
     "output_type": "stream",
     "text": [
      "Dataset has been saved to questions_dataset.tsv\n"
     ]
    }
   ],
   "source": [
    "import csv\n",
    "\n",
    "# Define the input and output file paths\n",
    "input_file_path = 'dataset.txt'  # Replace with your input file path\n",
    "output_file_path = 'questions_dataset.tsv'\n",
    "\n",
    "# Initialize a list to hold the parsed question data\n",
    "questions_data = []\n",
    "\n",
    "# Read the input file and parse the questions\n",
    "with open(input_file_path, 'r') as file:\n",
    "    lines = file.readlines()\n",
    "    \n",
    "    # Initialize variables to store the question details\n",
    "    question, option1, option2, option3, option4, correct_option = '', '', '', '', '', ''\n",
    "    \n",
    "    for line in lines:\n",
    "        line = line.strip()\n",
    "        \n",
    "        if line.startswith(\"Question\"):\n",
    "            parts = line.split(\": \", 1)\n",
    "            if len(parts) > 1:\n",
    "                question = parts[1].strip()\n",
    "        elif line.startswith(\"Option A\"):\n",
    "            parts = line.split(\": \", 1)\n",
    "            if len(parts) > 1:\n",
    "                option1 = parts[1].strip()\n",
    "        elif line.startswith(\"Option B\"):\n",
    "            parts = line.split(\": \", 1)\n",
    "            if len(parts) > 1:\n",
    "                option2 = parts[1].strip()\n",
    "        elif line.startswith(\"Option C\"):\n",
    "            parts = line.split(\": \", 1)\n",
    "            if len(parts) > 1:\n",
    "                option3 = parts[1].strip()\n",
    "        elif line.startswith(\"Option D\"):\n",
    "            parts = line.split(\": \", 1)\n",
    "            if len(parts) > 1:\n",
    "                option4 = parts[1].strip()\n",
    "        elif line.startswith(\"Correct Answer\"):\n",
    "            parts = line.split(\": \", 1)\n",
    "            if len(parts) > 1:\n",
    "                correct_option = parts[1].strip()\n",
    "            # Append the current question and its details to the list\n",
    "            questions_data.append([question, option1, option2, option3, option4, correct_option])\n",
    "            # Reset the variables for the next question\n",
    "            question, option1, option2, option3, option4, correct_option = '', '', '', '', '', ''\n",
    "\n",
    "# Write the parsed questions data to a TSV file\n",
    "with open(output_file_path, 'w', newline='', encoding='utf-8') as tsv_file:\n",
    "    writer = csv.writer(tsv_file, delimiter='\\t')\n",
    "    # Write the header\n",
    "    writer.writerow(['Question', 'Option1', 'Option2', 'Option3', 'Option4', 'CorrectOption'])\n",
    "    # Write the question data\n",
    "    writer.writerows(questions_data)\n",
    "\n",
    "print(f\"Dataset has been saved to {output_file_path}\")\n"
   ]
  },
  {
   "cell_type": "code",
   "execution_count": null,
   "id": "69f65e01",
   "metadata": {},
   "outputs": [],
   "source": []
  }
 ],
 "metadata": {
  "kernelspec": {
   "display_name": "Python 3 (ipykernel)",
   "language": "python",
   "name": "python3"
  },
  "language_info": {
   "codemirror_mode": {
    "name": "ipython",
    "version": 3
   },
   "file_extension": ".py",
   "mimetype": "text/x-python",
   "name": "python",
   "nbconvert_exporter": "python",
   "pygments_lexer": "ipython3",
   "version": "3.11.5"
  }
 },
 "nbformat": 4,
 "nbformat_minor": 5
}
